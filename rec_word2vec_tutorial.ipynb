{
 "cells": [
  {
   "cell_type": "markdown",
   "id": "93374522",
   "metadata": {},
   "source": [
    "# This is a tutorial on using Word2vec to create a Product Recommendation system. \n",
    "https://www.analyticsvidhya.com/blog/2019/07/how-to-build-recommendation-system-word2vec-python/"
   ]
  },
  {
   "cell_type": "code",
   "execution_count": 2,
   "id": "39d495c5",
   "metadata": {},
   "outputs": [
    {
     "name": "stderr",
     "output_type": "stream",
     "text": [
      "/Users/xzhao/opt/anaconda3/lib/python3.8/site-packages/gensim/similarities/__init__.py:15: UserWarning: The gensim.similarities.levenshtein submodule is disabled, because the optional Levenshtein package <https://pypi.org/project/python-Levenshtein/> is unavailable. Install Levenhstein (e.g. `pip install python-Levenshtein`) to suppress this warning.\n",
      "  warnings.warn(msg)\n"
     ]
    }
   ],
   "source": [
    "import pandas as pd\n",
    "import numpy as np\n",
    "import random\n",
    "from tqdm import tqdm\n",
    "from gensim.models import Word2Vec \n",
    "import matplotlib.pyplot as plt\n",
    "%matplotlib inline\n",
    "\n",
    "import warnings;\n",
    "warnings.filterwarnings('ignore')"
   ]
  },
  {
   "cell_type": "code",
   "execution_count": 3,
   "id": "6e58a390",
   "metadata": {},
   "outputs": [
    {
     "data": {
      "text/html": [
       "<div>\n",
       "<style scoped>\n",
       "    .dataframe tbody tr th:only-of-type {\n",
       "        vertical-align: middle;\n",
       "    }\n",
       "\n",
       "    .dataframe tbody tr th {\n",
       "        vertical-align: top;\n",
       "    }\n",
       "\n",
       "    .dataframe thead th {\n",
       "        text-align: right;\n",
       "    }\n",
       "</style>\n",
       "<table border=\"1\" class=\"dataframe\">\n",
       "  <thead>\n",
       "    <tr style=\"text-align: right;\">\n",
       "      <th></th>\n",
       "      <th>InvoiceNo</th>\n",
       "      <th>StockCode</th>\n",
       "      <th>Description</th>\n",
       "      <th>Quantity</th>\n",
       "      <th>InvoiceDate</th>\n",
       "      <th>UnitPrice</th>\n",
       "      <th>CustomerID</th>\n",
       "      <th>Country</th>\n",
       "    </tr>\n",
       "  </thead>\n",
       "  <tbody>\n",
       "    <tr>\n",
       "      <th>0</th>\n",
       "      <td>536365</td>\n",
       "      <td>85123A</td>\n",
       "      <td>WHITE HANGING HEART T-LIGHT HOLDER</td>\n",
       "      <td>6</td>\n",
       "      <td>2010-12-01 08:26:00</td>\n",
       "      <td>2.55</td>\n",
       "      <td>17850.0</td>\n",
       "      <td>United Kingdom</td>\n",
       "    </tr>\n",
       "    <tr>\n",
       "      <th>1</th>\n",
       "      <td>536365</td>\n",
       "      <td>71053</td>\n",
       "      <td>WHITE METAL LANTERN</td>\n",
       "      <td>6</td>\n",
       "      <td>2010-12-01 08:26:00</td>\n",
       "      <td>3.39</td>\n",
       "      <td>17850.0</td>\n",
       "      <td>United Kingdom</td>\n",
       "    </tr>\n",
       "    <tr>\n",
       "      <th>2</th>\n",
       "      <td>536365</td>\n",
       "      <td>84406B</td>\n",
       "      <td>CREAM CUPID HEARTS COAT HANGER</td>\n",
       "      <td>8</td>\n",
       "      <td>2010-12-01 08:26:00</td>\n",
       "      <td>2.75</td>\n",
       "      <td>17850.0</td>\n",
       "      <td>United Kingdom</td>\n",
       "    </tr>\n",
       "    <tr>\n",
       "      <th>3</th>\n",
       "      <td>536365</td>\n",
       "      <td>84029G</td>\n",
       "      <td>KNITTED UNION FLAG HOT WATER BOTTLE</td>\n",
       "      <td>6</td>\n",
       "      <td>2010-12-01 08:26:00</td>\n",
       "      <td>3.39</td>\n",
       "      <td>17850.0</td>\n",
       "      <td>United Kingdom</td>\n",
       "    </tr>\n",
       "    <tr>\n",
       "      <th>4</th>\n",
       "      <td>536365</td>\n",
       "      <td>84029E</td>\n",
       "      <td>RED WOOLLY HOTTIE WHITE HEART.</td>\n",
       "      <td>6</td>\n",
       "      <td>2010-12-01 08:26:00</td>\n",
       "      <td>3.39</td>\n",
       "      <td>17850.0</td>\n",
       "      <td>United Kingdom</td>\n",
       "    </tr>\n",
       "  </tbody>\n",
       "</table>\n",
       "</div>"
      ],
      "text/plain": [
       "  InvoiceNo StockCode                          Description  Quantity  \\\n",
       "0    536365    85123A   WHITE HANGING HEART T-LIGHT HOLDER         6   \n",
       "1    536365     71053                  WHITE METAL LANTERN         6   \n",
       "2    536365    84406B       CREAM CUPID HEARTS COAT HANGER         8   \n",
       "3    536365    84029G  KNITTED UNION FLAG HOT WATER BOTTLE         6   \n",
       "4    536365    84029E       RED WOOLLY HOTTIE WHITE HEART.         6   \n",
       "\n",
       "          InvoiceDate  UnitPrice  CustomerID         Country  \n",
       "0 2010-12-01 08:26:00       2.55     17850.0  United Kingdom  \n",
       "1 2010-12-01 08:26:00       3.39     17850.0  United Kingdom  \n",
       "2 2010-12-01 08:26:00       2.75     17850.0  United Kingdom  \n",
       "3 2010-12-01 08:26:00       3.39     17850.0  United Kingdom  \n",
       "4 2010-12-01 08:26:00       3.39     17850.0  United Kingdom  "
      ]
     },
     "execution_count": 3,
     "metadata": {},
     "output_type": "execute_result"
    }
   ],
   "source": [
    "# Read the data\n",
    "df = pd.read_excel('Online Retail.xlsx')\n",
    "df.head()"
   ]
  },
  {
   "cell_type": "markdown",
   "id": "c6eef9e5",
   "metadata": {},
   "source": [
    "# Here is the description of the fields in this dataset:\n",
    "\n",
    "InvoiceNo: Invoice number. a unique number assigned to each transaction\n",
    "\n",
    "StockCode: Product/item code. a unique number assigned to each distinct product\n",
    "\n",
    "Description: Product description\n",
    "\n",
    "Quantity: The quantities of each product per transaction\n",
    "\n",
    "InvoiceDate: Invoice Date and time. The day and time when each transaction was generated\n",
    "\n",
    "CustomerID: Customer number. a unique number assigned to each customer"
   ]
  },
  {
   "cell_type": "code",
   "execution_count": 4,
   "id": "cdaeca55",
   "metadata": {},
   "outputs": [
    {
     "data": {
      "text/plain": [
       "(541909, 8)"
      ]
     },
     "execution_count": 4,
     "metadata": {},
     "output_type": "execute_result"
    }
   ],
   "source": [
    "df.shape"
   ]
  },
  {
   "cell_type": "markdown",
   "id": "f970260c",
   "metadata": {},
   "source": [
    "# Clean and Prepare the data"
   ]
  },
  {
   "cell_type": "code",
   "execution_count": 5,
   "id": "262bcb3a",
   "metadata": {},
   "outputs": [
    {
     "data": {
      "text/plain": [
       "InvoiceNo           0\n",
       "StockCode           0\n",
       "Description      1454\n",
       "Quantity            0\n",
       "InvoiceDate         0\n",
       "UnitPrice           0\n",
       "CustomerID     135080\n",
       "Country             0\n",
       "dtype: int64"
      ]
     },
     "execution_count": 5,
     "metadata": {},
     "output_type": "execute_result"
    }
   ],
   "source": [
    "# check for missing values\n",
    "df.isnull().sum()"
   ]
  },
  {
   "cell_type": "code",
   "execution_count": 6,
   "id": "bd0286cf",
   "metadata": {},
   "outputs": [],
   "source": [
    "# remove missing values\n",
    "df.dropna(inplace=True)"
   ]
  },
  {
   "cell_type": "code",
   "execution_count": 7,
   "id": "3b9343e9",
   "metadata": {},
   "outputs": [],
   "source": [
    "# convert stock code to string \n",
    "df['StockCode']= df['StockCode'].astype(str)"
   ]
  },
  {
   "cell_type": "code",
   "execution_count": 8,
   "id": "1409e3ca",
   "metadata": {},
   "outputs": [
    {
     "data": {
      "text/plain": [
       "4372"
      ]
     },
     "execution_count": 8,
     "metadata": {},
     "output_type": "execute_result"
    }
   ],
   "source": [
    "# check the number of unique customers \n",
    "customers = df[\"CustomerID\"].unique().tolist()\n",
    "len(customers)"
   ]
  },
  {
   "cell_type": "markdown",
   "id": "af1560e6",
   "metadata": {},
   "source": [
    "There are 4,372 customers in our dataset. For each of these customers, we will extract their buying history. In other words, we can have 4,372 sequences of purchases."
   ]
  },
  {
   "cell_type": "markdown",
   "id": "9a97761c",
   "metadata": {},
   "source": [
    "# Create Training and Testing Data (90/10 split)"
   ]
  },
  {
   "cell_type": "code",
   "execution_count": 9,
   "id": "1513e8e2",
   "metadata": {},
   "outputs": [],
   "source": [
    "# shuffle customer ID's\n",
    "random.shuffle(customers)\n",
    "\n",
    "# extract 90% of customer ID's\n",
    "customers_train = [customers[i] for i in range(round(0.9*len(customers)))]\n",
    "\n",
    "# split data into train and validation set\n",
    "train_df = df[df['CustomerID'].isin(customers_train)]\n",
    "validation_df = df[~df['CustomerID'].isin(customers_train)]"
   ]
  },
  {
   "cell_type": "markdown",
   "id": "86d3ecb7",
   "metadata": {},
   "source": [
    "We will create sequences of purchases made by the customers in the dataset for both the train and validation set."
   ]
  },
  {
   "cell_type": "code",
   "execution_count": 10,
   "id": "14786932",
   "metadata": {},
   "outputs": [
    {
     "name": "stderr",
     "output_type": "stream",
     "text": [
      "100%|██████████| 3935/3935 [00:06<00:00, 649.07it/s]\n"
     ]
    }
   ],
   "source": [
    "# list to capture purchase history of the customers\n",
    "purchases_train = []\n",
    "\n",
    "# populate the list with the product codes\n",
    "for i in tqdm(customers_train):\n",
    "    temp = train_df[train_df[\"CustomerID\"] == i][\"StockCode\"].tolist()\n",
    "    purchases_train.append(temp)"
   ]
  },
  {
   "cell_type": "code",
   "execution_count": 11,
   "id": "8bfd4382",
   "metadata": {},
   "outputs": [
    {
     "name": "stderr",
     "output_type": "stream",
     "text": [
      "100%|██████████| 437/437 [00:00<00:00, 913.60it/s]\n"
     ]
    }
   ],
   "source": [
    "# list to capture purchase history of the customers\n",
    "purchases_val = []\n",
    "\n",
    "# populate the list with the product codes\n",
    "for i in tqdm(validation_df['CustomerID'].unique()):\n",
    "    temp = validation_df[validation_df[\"CustomerID\"] == i][\"StockCode\"].tolist()\n",
    "    purchases_val.append(temp)"
   ]
  },
  {
   "cell_type": "markdown",
   "id": "b81fe51a",
   "metadata": {},
   "source": [
    "# Train a word2vec model"
   ]
  },
  {
   "cell_type": "code",
   "execution_count": 12,
   "id": "e9b11a29",
   "metadata": {},
   "outputs": [
    {
     "data": {
      "text/plain": [
       "(3622124, 3658370)"
      ]
     },
     "execution_count": 12,
     "metadata": {},
     "output_type": "execute_result"
    }
   ],
   "source": [
    "# train word2vec model\n",
    "model = Word2Vec(window = 10, sg = 1, hs = 0,\n",
    "                 negative = 10, # for negative sampling\n",
    "                 alpha=0.03, min_alpha=0.0007,\n",
    "                 seed = 14)\n",
    "\n",
    "model.build_vocab(purchases_train, progress_per=200)\n",
    "\n",
    "model.train(purchases_train, total_examples = model.corpus_count, \n",
    "            epochs=10, report_delay=1)"
   ]
  },
  {
   "cell_type": "markdown",
   "id": "24bd2ca9",
   "metadata": {},
   "source": [
    "1. One heuristic is that smaller window sizes (2-15) lead to embeddings where high similarity scores between two embeddings indicates that the words are interchangeable (notice that antonyms are often interchangeable if we’re only looking at their surrounding words – e.g. good and bad often appear in similar contexts). Larger window sizes (15-50, or even more) lead to embeddings where similarity is more indicative of relatedness of the words.\n",
    "\n",
    "2. The number of negative samples is another factor of the training process. The original paper prescribes 5-20 as being a good number of negative samples. It also states that 2-5 seems to be enough when you have a large enough dataset."
   ]
  },
  {
   "cell_type": "code",
   "execution_count": 13,
   "id": "e1e18162",
   "metadata": {},
   "outputs": [],
   "source": [
    "# since we are done training the model, we can make it more memory efficient. \n",
    "model.init_sims(replace=True)"
   ]
  },
  {
   "cell_type": "code",
   "execution_count": 14,
   "id": "0780c559",
   "metadata": {},
   "outputs": [
    {
     "name": "stdout",
     "output_type": "stream",
     "text": [
      "Word2Vec(vocab=3163, vector_size=100, alpha=0.03)\n"
     ]
    }
   ],
   "source": [
    "print(model)"
   ]
  },
  {
   "cell_type": "markdown",
   "id": "2a02e15b",
   "metadata": {},
   "source": [
    "Visualizing Word2Vec Embeddings using UMAP dimensionality reductions from 100 dim to 2 dim. "
   ]
  },
  {
   "cell_type": "code",
   "execution_count": 22,
   "id": "c77d09c5",
   "metadata": {},
   "outputs": [
    {
     "data": {
      "text/plain": [
       "(3163, 100)"
      ]
     },
     "execution_count": 22,
     "metadata": {},
     "output_type": "execute_result"
    }
   ],
   "source": [
    "# extract all vectors\n",
    "X = model.wv.get_normed_vectors()\n",
    "\n",
    "X.shape"
   ]
  },
  {
   "cell_type": "code",
   "execution_count": 23,
   "id": "5e3479e6",
   "metadata": {},
   "outputs": [
    {
     "data": {
      "text/plain": [
       "<matplotlib.collections.PathCollection at 0x7fb79c5707f0>"
      ]
     },
     "execution_count": 23,
     "metadata": {},
     "output_type": "execute_result"
    },
    {
     "data": {
      "image/png": "[encoded data removed]",
      "text/plain": [
       "<Figure size 720x648 with 1 Axes>"
      ]
     },
     "metadata": {
      "needs_background": "light"
     },
     "output_type": "display_data"
    }
   ],
   "source": [
    "import umap\n",
    "\n",
    "cluster_embedding = umap.UMAP(n_neighbors=30, min_dist=0.0,\n",
    "                              n_components=2, random_state=42).fit_transform(X)\n",
    "\n",
    "plt.figure(figsize=(10,9))\n",
    "plt.scatter(cluster_embedding[:, 0], cluster_embedding[:, 1], s=3, cmap='Spectral')"
   ]
  },
  {
   "cell_type": "markdown",
   "id": "e9af6c80",
   "metadata": {},
   "source": [
    "Every dot in this plot is a product. As you can see, there are several tiny clusters of these data points. These are groups of similar products."
   ]
  },
  {
   "cell_type": "markdown",
   "id": "69f8839d",
   "metadata": {},
   "source": [
    "# Start of Product Recommendation \n",
    "\n",
    "Now, our next step is to suggest similar products for a certain product or a product’s vector.\n",
    "\n",
    "first create a product-ID and product-description dictionary to easily map a product’s description to its ID and vice versa."
   ]
  },
  {
   "cell_type": "code",
   "execution_count": 25,
   "id": "ece4f6d1",
   "metadata": {},
   "outputs": [],
   "source": [
    "products = train_df[[\"StockCode\", \"Description\"]]\n",
    "\n",
    "# remove duplicates\n",
    "products.drop_duplicates(inplace=True, subset='StockCode', keep=\"last\")\n",
    "\n",
    "# create product-ID and product-description dictionary\n",
    "products_dict = products.groupby('StockCode')['Description'].apply(list).to_dict()"
   ]
  },
  {
   "cell_type": "code",
   "execution_count": 26,
   "id": "ce67953c",
   "metadata": {},
   "outputs": [
    {
     "data": {
      "text/plain": [
       "['RED WOOLLY HOTTIE WHITE HEART.']"
      ]
     },
     "execution_count": 26,
     "metadata": {},
     "output_type": "execute_result"
    }
   ],
   "source": [
    "# test the dictionary\n",
    "products_dict['84029E']"
   ]
  },
  {
   "cell_type": "markdown",
   "id": "2238fda3",
   "metadata": {},
   "source": [
    "The function below will take a product’s vector (n) as input and return top 6 similar products:"
   ]
  },
  {
   "cell_type": "code",
   "execution_count": 31,
   "id": "31cfe52a",
   "metadata": {},
   "outputs": [],
   "source": [
    "def similar_products(v, n = 6):\n",
    "    \n",
    "    # extract most similar products for the input vector\n",
    "    ms = model.wv.similar_by_vector(v, topn= n+1)[1:]\n",
    "    \n",
    "    # extract name and similarity score of the similar products\n",
    "    new_ms = []\n",
    "    for j in ms:\n",
    "        pair = (products_dict[j[0]][0], j[1])\n",
    "        new_ms.append(pair)\n",
    "        \n",
    "    return new_ms  "
   ]
  },
  {
   "cell_type": "markdown",
   "id": "f8c94871",
   "metadata": {},
   "source": [
    "try out our function by passing the vector of the product ‘90019A’ (‘SILVER M.O.P ORBIT BRACELET’):"
   ]
  },
  {
   "cell_type": "code",
   "execution_count": 32,
   "id": "0c45fcc9",
   "metadata": {},
   "outputs": [
    {
     "data": {
      "text/plain": [
       "[('PINK BOUDICCA LARGE BRACELET', 0.7623582482337952),\n",
       " ('PINK HEART OF GLASS BRACELET', 0.7491743564605713),\n",
       " ('SILVER M.O.P ORBIT DROP EARRINGS', 0.7099161744117737),\n",
       " ('BLACK VINTAGE  CRYSTAL EARRINGS', 0.7031257152557373),\n",
       " ('ANT COPPER RED BOUDICCA BRACELET', 0.702298641204834),\n",
       " ('BLUE MURANO TWIST BRACELET', 0.7018544673919678)]"
      ]
     },
     "execution_count": 32,
     "metadata": {},
     "output_type": "execute_result"
    }
   ],
   "source": [
    "similar_products(model.wv['90019A'])"
   ]
  },
  {
   "cell_type": "markdown",
   "id": "d1d37b38",
   "metadata": {},
   "source": [
    "this output is based on the vector of a single product only, which is what we want for phase 1. \n",
    "\n",
    "\n",
    "For Phase 2, If we want to recommend products based on the multiple purchases he or she has made in the past?\n",
    "\n",
    "One simple solution is to take the average of all the vectors of the products the user has bought so far and use this resultant vector to find similar products. We will use the function below that takes in a list of product IDs and gives out a 100-dimensional vector which is a mean of vectors of the products in the input list:"
   ]
  },
  {
   "cell_type": "code",
   "execution_count": 42,
   "id": "9a40c57d",
   "metadata": {},
   "outputs": [],
   "source": [
    "def aggregate_vectors(products):\n",
    "    product_vec = []\n",
    "    for i in products:\n",
    "        try:\n",
    "            product_vec.append(model.wv[i])\n",
    "        except KeyError:\n",
    "            continue\n",
    "        \n",
    "    return np.mean(product_vec, axis=0)"
   ]
  },
  {
   "cell_type": "markdown",
   "id": "4288e09a",
   "metadata": {},
   "source": [
    "Recall that we have already created a separate list of purchase sequences for validation purposes. Now let’s make use of that."
   ]
  },
  {
   "cell_type": "code",
   "execution_count": 43,
   "id": "613925f3",
   "metadata": {},
   "outputs": [
    {
     "data": {
      "text/plain": [
       "196"
      ]
     },
     "execution_count": 43,
     "metadata": {},
     "output_type": "execute_result"
    }
   ],
   "source": [
    "len(purchases_val[0])"
   ]
  },
  {
   "cell_type": "markdown",
   "id": "d702fe9a",
   "metadata": {},
   "source": [
    "The length of the first list of products purchased by a user is 196. We will pass this products’ sequence of the validation set to the function aggregate_vectors."
   ]
  },
  {
   "cell_type": "code",
   "execution_count": 44,
   "id": "f4a22ac8",
   "metadata": {},
   "outputs": [
    {
     "data": {
      "text/plain": [
       "(100,)"
      ]
     },
     "execution_count": 44,
     "metadata": {},
     "output_type": "execute_result"
    }
   ],
   "source": [
    "aggregate_vectors(purchases_val[0]).shape"
   ]
  },
  {
   "cell_type": "code",
   "execution_count": 45,
   "id": "ca1c18dd",
   "metadata": {},
   "outputs": [
    {
     "data": {
      "text/plain": [
       "[('SET OF 3 CAKE TINS PANTRY DESIGN ', 0.6984906196594238),\n",
       " ('JAM MAKING SET PRINTED', 0.6798282861709595),\n",
       " ('SPOTTY BUNTING', 0.6722570657730103),\n",
       " ('JAM MAKING SET WITH JARS', 0.6687036156654358),\n",
       " ('SET OF 3 REGENCY CAKE TINS', 0.6677337884902954),\n",
       " ('SET OF TEA COFFEE SUGAR TINS PANTRY', 0.6665714979171753)]"
      ]
     },
     "execution_count": 45,
     "metadata": {},
     "output_type": "execute_result"
    }
   ],
   "source": [
    "similar_products(aggregate_vectors(purchases_val[0]))"
   ]
  },
  {
   "cell_type": "markdown",
   "id": "2af5f3c3",
   "metadata": {},
   "source": [
    "Our system has recommended 6 products based on the entire purchase history of a user. Moreover, if you want to get product suggestions based on the last few purchases, only then also you can use the same set of functions.\n",
    "\n",
    "Below is the code that allows us to make a recomomendation based on the last 10 (most recent) products the user bought. "
   ]
  },
  {
   "cell_type": "code",
   "execution_count": 46,
   "id": "7fd555a8",
   "metadata": {},
   "outputs": [
    {
     "data": {
      "text/plain": [
       "[('SET OF 3 REGENCY CAKE TINS', 0.6535059809684753),\n",
       " ('PACK OF SIX LED TEA LIGHTS', 0.650452733039856),\n",
       " ('VINTAGE CHRISTMAS STOCKING ', 0.6474653482437134),\n",
       " ('SET OF 20 VINTAGE CHRISTMAS NAPKINS', 0.6433941125869751),\n",
       " (\"PAPER CHAIN KIT 50'S CHRISTMAS \", 0.6275955438613892),\n",
       " ('BISCUIT TIN VINTAGE CHRISTMAS', 0.619895339012146)]"
      ]
     },
     "execution_count": 46,
     "metadata": {},
     "output_type": "execute_result"
    }
   ],
   "source": [
    "similar_products(aggregate_vectors(purchases_val[0][-10:]))"
   ]
  },
  {
   "cell_type": "code",
   "execution_count": null,
   "id": "5118df2e",
   "metadata": {},
   "outputs": [],
   "source": []
  }
 ],
 "metadata": {
  "kernelspec": {
   "display_name": "Python 3",
   "language": "python",
   "name": "python3"
  },
  "language_info": {
   "codemirror_mode": {
    "name": "ipython",
    "version": 3
   },
   "file_extension": ".py",
   "mimetype": "text/x-python",
   "name": "python",
   "nbconvert_exporter": "python",
   "pygments_lexer": "ipython3",
   "version": "3.8.8"
  }
 },
 "nbformat": 4,
 "nbformat_minor": 5
}
